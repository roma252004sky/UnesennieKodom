{
 "cells": [
  {
   "cell_type": "code",
   "execution_count": null,
   "metadata": {},
   "outputs": [],
   "source": [
    "import pandas as pd\n",
    "import torch\n",
    "from torch import nn\n",
    "from torch.utils.data import Dataset, DataLoader\n",
    "from transformers import BertTokenizer, BertModel, AdamW"
   ]
  },
  {
   "cell_type": "code",
   "execution_count": null,
   "metadata": {},
   "outputs": [],
   "source": [
    "videos_df = pd.read_parquet('videos.parquet',\n",
    "    engine='fastparquet',\n",
    "    columns=['video_id', 'video_title'])\n",
    "features_df = pd.read_parquet('features.parquet', engine = \"fastparquet\")\n"
   ]
  },
  {
   "cell_type": "code",
   "execution_count": null,
   "metadata": {},
   "outputs": [],
   "source": [
    "# Объединить данные из разных файлов по video_id\n",
    "merged_df = pd.merge(features_df, videos_df, on='video_id')\n",
    "del features_df\n",
    "del videos_df\n",
    "automarkup_df = pd.read_parquet('automarkup.parquet', engine = \"fastparquet\")\n"
   ]
  },
  {
   "cell_type": "code",
   "execution_count": null,
   "metadata": {},
   "outputs": [],
   "source": [
    "# Выбрать нужные колонки для обучения\n",
    "input_cols = ['video_title', 'v_pub_datetime']\n",
    "target_col = 'query'\n",
    "df = automarkup_df[[target_col, 'video_id']].merge(merged_df[input_cols + ['video_id']], on='video_id')\n",
    "# Удалить пропущенные значения\n",
    "del automarkup_df\n",
    "\n",
    "\n",
    "df.dropna(subset=[target_col, 'video_title', 'v_pub_datetime'], inplace=True)"
   ]
  },
  {
   "cell_type": "code",
   "execution_count": null,
   "metadata": {},
   "outputs": [],
   "source": [
    "# Инициализировать токенизатор BERT\n",
    "tokenizer = BertTokenizer.from_pretrained('bert-base-uncased')\n",
    "# Определить максимальную длину последовательности\n",
    "max_seq_length = 128\n",
    "# Создать класс датасета\n",
    "class VideoDataset(Dataset):\n",
    "    def __init__(self, data, tokenizer, max_seq_length):\n",
    "        self.data = data\n",
    "        self.tokenizer = tokenizer\n",
    "        self.max_seq_length = max_seq_length\n",
    "    \n",
    "    def __len__(self):\n",
    "        return len(self.data)\n",
    "    \n",
    "    def __getitem__(self, idx):\n",
    "        row = self.data.iloc[idx]\n",
    "        video_title = row['video_title']\n",
    "        v_pub_datetime = row['v_pub_datetime']\n",
    "        query = row[target_col]\n",
    "        \n",
    "        # Преобразование текстового значения query в числовую метку\n",
    "        query_label = query_to_label[query]\n",
    "        \n",
    "        inputs = self.tokenizer.encode_plus(\n",
    "            video_title,\n",
    "            v_pub_datetime,\n",
    "            add_special_tokens=True,\n",
    "            max_length=self.max_seq_length,\n",
    "            padding='max_length',\n",
    "            truncation=True,\n",
    "            return_tensors='pt'\n",
    "        )\n",
    "        \n",
    "        input_ids = inputs['input_ids'].squeeze()\n",
    "        attention_mask = inputs['attention_mask'].squeeze()\n",
    "        \n",
    "        return input_ids, attention_mask, torch.tensor(query_label)\n",
    "\n",
    "\n",
    "\n",
    "    def collate_fn(self, batch):\n",
    "        input_ids_list, attention_mask_list, query_list = zip(*batch)\n",
    "        input_ids_list = torch.stack(input_ids_list, dim=0)\n",
    "        attention_mask_list = torch.stack(attention_mask_list, dim=0)\n",
    "    \n",
    "        return input_ids_list, attention_mask_list, query_list\n",
    "\n",
    "    \n",
    "    \n",
    "\n",
    "\n",
    "\n",
    "\n",
    "\n",
    "# Создать загрузчик данных\n",
    "batch_size = 32\n",
    "dataset = VideoDataset(df, tokenizer, max_seq_length)\n",
    "del df\n",
    "del tokenizer\n",
    "dataloader = DataLoader(dataset, batch_size=batch_size, shuffle=True, collate_fn=dataset.collate_fn)\n",
    "del dataset\n"
   ]
  },
  {
   "cell_type": "code",
   "execution_count": null,
   "metadata": {},
   "outputs": [],
   "source": [
    "class VideoSearchModel(nn.Module):\n",
    "    def __init__(self, num_classes):\n",
    "        super(VideoSearchModel, self).__init__()\n",
    "        self.bert = BertModel.from_pretrained('bert-base-uncased')\n",
    "        self.dropout = nn.Dropout(0.1)\n",
    "        self.fc = nn.Linear(768, num_classes)\n",
    "    \n",
    "    def forward(self, input_ids, attention_mask):\n",
    "        outputs = self.bert(input_ids, attention_mask)\n",
    "        pooled_output = outputs.pooler_output\n",
    "        pooled_output = self.dropout(pooled_output)\n",
    "        logits = self.fc(pooled_output)\n",
    "        return logits\n",
    "# Инициализировать модель\n",
    "num_classes = 1\n",
    "model = VideoSearchModel(num_classes)\n",
    "# Перенести модель на GPU\n",
    "device = torch.device('cuda' if torch.cuda.is_available() else 'cpu')\n",
    "model.to(device)"
   ]
  },
  {
   "cell_type": "code",
   "execution_count": null,
   "metadata": {},
   "outputs": [],
   "source": [
    "# Определить функцию потерь и оптимизатор\n",
    "criterion = nn.BCEWithLogitsLoss()\n",
    "optimizer = AdamW(model.parameters(), lr=2e-5)\n",
    "# Обучение модели\n",
    "num_epochs = 10\n",
    "model.train()\n",
    "for epoch in range(num_epochs):\n",
    "    for input_ids, attention_mask, targets in dataloader:\n",
    "        input_ids = input_ids.to(device)\n",
    "        attention_mask = attention_mask.to(device)\n",
    "        targets = targets.to(device)\n",
    "        \n",
    "        optimizer.zero_grad()\n",
    "        \n",
    "        outputs = model(input_ids, attention_mask)\n",
    "        \n",
    "        loss = criterion(outputs.squeeze(), targets.float())\n",
    "        \n",
    "        loss.backward()\n",
    "        optimizer.step()"
   ]
  },
  {
   "cell_type": "code",
   "execution_count": null,
   "metadata": {},
   "outputs": [],
   "source": [
    "torch.save(model.state_dict(), 'video_search_model.pth')"
   ]
  },
  {
   "cell_type": "code",
   "execution_count": null,
   "metadata": {},
   "outputs": [],
   "source": [
    "# Загрузить сохраненную модель\n",
    "model = VideoSearchModel(num_classes)\n",
    "model.load_state_dict(torch.load('video_search_model.pth'))\n",
    "model.to(device)\n",
    "# Функция для выполнения поиска видео\n",
    "def search_videos(queries):\n",
    "    model.eval()\n",
    "    results = []\n",
    "    \n",
    "    for query in queries:\n",
    "        input_ids, attention_mask, _ = dataset[0]\n",
    "        input_ids = input_ids.unsqueeze(0).to(device)\n",
    "        attention_mask = attention_mask.unsqueeze(0).to(device)\n",
    "        \n",
    "        with torch.no_grad():\n",
    "            outputs = model(input_ids, attention_mask)\n",
    "            prediction = torch.sigmoid(outputs).item()\n",
    "            \n",
    "        results.append((prediction, query))\n",
    "    \n",
    "    return results\n",
    "# Пример использования\n",
    "queries = ['query1', 'query2', 'query3']\n",
    "results = search_videos(queries)\n",
    "# Сохранить результаты в файл csv\n",
    "results_df = pd.DataFrame(results, columns=['id_video', 'query'])\n",
    "results_df.to_csv('results.csv', index=False)"
   ]
  }
 ],
 "metadata": {
  "kernelspec": {
   "display_name": "DataSphere Kernel",
   "language": "python",
   "name": "python3"
  },
  "language_info": {
   "codemirror_mode": {
    "name": "ipython",
    "version": 3
   },
   "file_extension": ".py",
   "mimetype": "text/x-python",
   "name": "python",
   "nbconvert_exporter": "python",
   "pygments_lexer": "ipython3",
   "version": "3.7.7"
  }
 },
 "nbformat": 4,
 "nbformat_minor": 2
}
